{
 "cells": [
  {
   "cell_type": "code",
   "execution_count": 5,
   "metadata": {},
   "outputs": [
    {
     "name": "stdout",
     "output_type": "stream",
     "text": [
      "¡Alerta! ¡Un asteroide se acerca a velocidades peligrosas!\n"
     ]
    }
   ],
   "source": [
    "velocidad_Asteroide=49\n",
    "if velocidad_Asteroide>25:\n",
    "    print('¡Alerta! ¡Un asteroide se acerca a velocidades peligrosas!')\n",
    "else:\n",
    "    print('No hay problemas en el espacio :D')"
   ]
  },
  {
   "cell_type": "code",
   "execution_count": 6,
   "metadata": {},
   "outputs": [
    {
     "name": "stdout",
     "output_type": "stream",
     "text": [
      "El cielo se ve normal\n"
     ]
    }
   ],
   "source": [
    "velocidad_Asteroide=19\n",
    "if velocidad_Asteroide>20:\n",
    "    print('Hay una luz increible en el cielo')\n",
    "elif velocidad_Asteroide==20:\n",
    "    print('Hay una luz increible en el cielo')\n",
    "else:\n",
    "    print('El cielo se ve normal')"
   ]
  },
  {
   "cell_type": "code",
   "execution_count": 3,
   "metadata": {},
   "outputs": [
    {
     "name": "stdout",
     "output_type": "stream",
     "text": [
      "Look up! ¡Hay una luz mágica en el cielo!\n"
     ]
    }
   ],
   "source": [
    "velocidad_Asteroide=25\n",
    "tamaño_Asteroide=40\n",
    "if velocidad_Asteroide>25 and tamaño_Asteroide>25:\n",
    "    print('Hay un asteroide acercandose a la tierra')\n",
    "elif velocidad_Asteroide>=20:\n",
    "    print('Hay una luz increible en el cielo')\n",
    "elif tamaño_Asteroide<25:\n",
    "    print('El cielo se ve normal')\n",
    "else:\n",
    "    print('El cielo se ve normal')"
   ]
  }
 ],
 "metadata": {
  "interpreter": {
   "hash": "c2367406529ef1035fe20307fd3ca78d07ce3d800952f6e12c7c5d6b9a695f0e"
  },
  "kernelspec": {
   "display_name": "Python 3.7.9 64-bit",
   "language": "python",
   "name": "python3"
  },
  "language_info": {
   "codemirror_mode": {
    "name": "ipython",
    "version": 3
   },
   "file_extension": ".py",
   "mimetype": "text/x-python",
   "name": "python",
   "nbconvert_exporter": "python",
   "pygments_lexer": "ipython3",
   "version": "3.7.9"
  },
  "orig_nbformat": 4
 },
 "nbformat": 4,
 "nbformat_minor": 2
}
